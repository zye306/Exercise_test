{
 "cells": [
  {
   "attachments": {},
   "cell_type": "markdown",
   "metadata": {},
   "source": [
    "# Model Evaluation template"
   ]
  },
  {
   "attachments": {},
   "cell_type": "markdown",
   "metadata": {},
   "source": [
    "You can follow this python script to make some basic model evaluation exercises."
   ]
  },
  {
   "attachments": {},
   "cell_type": "markdown",
   "metadata": {},
   "source": [
    "## 0. Import necessary python packages and import the prewritten functions."
   ]
  },
  {
   "cell_type": "code",
   "execution_count": null,
   "metadata": {},
   "outputs": [],
   "source": [
    "%pip install -q nbformat plotly statsmodels"
   ]
  },
  {
   "cell_type": "code",
   "execution_count": null,
   "metadata": {},
   "outputs": [],
   "source": [
    "import xarray as xr\n",
    "import numpy as np\n",
    "import pandas as pd\n",
    "import os\n",
    "\n",
    "# import hvplot.xarray\n",
    "import matplotlib\n",
    "matplotlib.use('Agg')\n",
    "import matplotlib.pyplot as plt\n",
    "\n",
    "import plotly.express as px\n",
    "import plotly.graph_objects as go\n",
    "\n",
    "import warnings\n",
    "warnings.filterwarnings(\"ignore\")"
   ]
  },
  {
   "attachments": {},
   "cell_type": "markdown",
   "metadata": {},
   "source": [
    "## 1. Load the data\n",
    "\n",
    "We have simulated and observed data for SO2 (ug/m3), SO4 (ugS/m3), NH4 (ugN/m3), NO3 (ugN/m3), and PM2.5 (ug/m3) at three stations: Villum, Spitzbergen, and Alert."
   ]
  },
  {
   "cell_type": "code",
   "execution_count": null,
   "metadata": {},
   "outputs": [],
   "source": [
    "# We totally have the following three stations available:\n",
    "allstations = ['Villum','Spitzbergen','Alert']\n",
    "\n",
    "# A function to get the data of one station\n",
    "# Do not change below function, unless you know what you are doing.\n",
    "def get_station_data(station):\n",
    "    input_file = f'data/Arctic_aerosol_{station}.csv'\n",
    "\n",
    "    df = pd.read_csv(input_file,header=0)\n",
    "    # Convert date column to datetime format\n",
    "    df['date'] = pd.to_datetime(df['date'])\n",
    "    df = df.set_index('date')\n",
    "\n",
    "    return df"
   ]
  },
  {
   "cell_type": "code",
   "execution_count": null,
   "metadata": {},
   "outputs": [],
   "source": [
    "station = 'Villum'  # Choose from 'Villum','Spitzbergen', and 'Alert'\n",
    "df = get_station_data(station)\n",
    "\n",
    "# Print out the first 5 lines\n",
    "print(df.head(5))"
   ]
  },
  {
   "attachments": {},
   "cell_type": "markdown",
   "metadata": {},
   "source": [
    "#### What do you observe from the data? For example: time resolution, time period, components, data missing etc."
   ]
  },
  {
   "attachments": {},
   "cell_type": "markdown",
   "metadata": {},
   "source": [
    "## 2. Plot the time series"
   ]
  },
  {
   "cell_type": "code",
   "execution_count": null,
   "metadata": {},
   "outputs": [],
   "source": [
    "# Function to plot the variable\n",
    "# Do not change below function, unless you know what you are doing.\n",
    "def plot_time_series(var,station,df=None,stddf=None):\n",
    "    df = get_station_data(station) if df is None else df\n",
    "\n",
    "    fig = go.Figure()\n",
    "    \n",
    "    \n",
    "    if stddf is not None:\n",
    "        # Add simulation line\n",
    "        fig.add_trace(go.Scatter(y=df[f'{var}_mod'],x=df.index,name='model simulation',\\\n",
    "                    error_y=dict(type='data',array=stddf[f'{var}_mod'].values)))\n",
    "\n",
    "        # Add observation line\n",
    "        if f'{var}_mea' in df.columns:\n",
    "            fig.add_trace(go.Scatter(y=df[f'{var}_mea'],x=df.index,name='measurement',\\\n",
    "                    error_y=dict(type='data',array=stddf[f'{var}_mod'].values)))\n",
    "\n",
    "    else:\n",
    "        # Add simulation line\n",
    "        fig.add_trace(go.Scatter(y=df[f'{var}_mod'],x=df.index,name='model simulation'))\n",
    "\n",
    "        # Add observation line\n",
    "        if f'{var}_mea' in df.columns:\n",
    "            fig.add_trace(go.Scatter(y=df[f'{var}_mea'],x=df.index,name='measurement'))\n",
    "\n",
    "\n",
    "    # Title and legend\n",
    "    fig.update_layout(title = f'{var} time series at {station}')\n",
    "    fig.update_layout(legend=dict(\n",
    "        orientation=\"h\",\n",
    "        yanchor=\"bottom\",\n",
    "        y=1.02,\n",
    "        xanchor=\"right\",\n",
    "        x=1\n",
    "        ))\n",
    "    fig.update_layout(showlegend=True) \n",
    "    fig.show()\n"
   ]
  },
  {
   "cell_type": "code",
   "execution_count": null,
   "metadata": {},
   "outputs": [],
   "source": [
    "chemical,station = 'SO4','Villum'   # Choose from 'SO2', 'SO4', 'NH4', 'NO3', and 'PM2.5' for chemical, \n",
    "                                    # and 'Villum','Spitzbergen','Alert' for station\n",
    "plot_time_series(chemical,station)"
   ]
  },
  {
   "attachments": {},
   "cell_type": "markdown",
   "metadata": {},
   "source": [
    "#### Please change the chemical and the station to take a look at the time series of different chemicals and different stations.\n",
    "\n",
    "Tips:\n",
    "\n",
    "1. You can copy the cell down when you want to look at a new chemical or new location, so that you can keep all figures.\n",
    "\n",
    "2. You can download the plots you want for exercise report, and maybe for your final report. Download option is on the top-right option panel of the figure."
   ]
  },
  {
   "attachments": {},
   "cell_type": "markdown",
   "metadata": {},
   "source": [
    "## 3. Interannual variation (annual mean)"
   ]
  },
  {
   "cell_type": "code",
   "execution_count": null,
   "metadata": {},
   "outputs": [],
   "source": [
    "# Look at annual mean\n",
    "chemical,station = 'SO4','Villum'   # Choose from 'SO2', 'SO4', 'NH4', 'NO3', and 'PM2.5' for chemical, \n",
    "                                    # and 'Villum','Spitzbergen','Alert' for station\n",
    "df = get_station_data(station)\n",
    "annual_df = df.groupby(pd.Grouper(freq='1Y')).mean()\n",
    "\n",
    "# Without standard deviation\n",
    "plot_time_series(chemical,station,df=annual_df)"
   ]
  },
  {
   "cell_type": "code",
   "execution_count": null,
   "metadata": {},
   "outputs": [],
   "source": [
    "annual_std_df = df.groupby(pd.Grouper(freq='1Y')).std()\n",
    "\n",
    "# With standard deviation\n",
    "plot_time_series(chemical,station,df=annual_df,stddf=annual_std_df)"
   ]
  },
  {
   "attachments": {},
   "cell_type": "markdown",
   "metadata": {},
   "source": [
    "#### What do you found from the interannual variations? Are they showing the same characteristics for different chemicals or different stations?"
   ]
  },
  {
   "attachments": {},
   "cell_type": "markdown",
   "metadata": {},
   "source": [
    "## 4. Seasonal cycle"
   ]
  },
  {
   "cell_type": "code",
   "execution_count": null,
   "metadata": {},
   "outputs": [],
   "source": [
    "chemical,station = 'SO4','Villum'   # Choose from 'SO2', 'SO4', 'NH4', 'NO3', and 'PM2.5' for chemical, \n",
    "                                    # and 'Villum','Spitzbergen','Alert' for station\n",
    "df['date'] = pd.to_datetime(df.index)\n",
    "seasonal_df = df.groupby(df.date.dt.month).mean()\n",
    "\n",
    "plot_time_series(chemical,station,df=seasonal_df)"
   ]
  },
  {
   "cell_type": "code",
   "execution_count": null,
   "metadata": {},
   "outputs": [],
   "source": [
    "seasonal_std_df = df.groupby(df.date.dt.month).std()\n",
    "\n",
    "# Add standard deviation\n",
    "plot_time_series(chemical,station,df=seasonal_df,stddf=seasonal_std_df)"
   ]
  },
  {
   "attachments": {},
   "cell_type": "markdown",
   "metadata": {},
   "source": [
    "#### How would you describe their seasonal cycle? Are they showing the same characteristics for different chemicals or different stations?"
   ]
  },
  {
   "attachments": {},
   "cell_type": "markdown",
   "metadata": {},
   "source": [
    "## 5. Evaluations"
   ]
  },
  {
   "attachments": {},
   "cell_type": "markdown",
   "metadata": {},
   "source": [
    "### 1-1 paring scatter plot"
   ]
  },
  {
   "cell_type": "code",
   "execution_count": null,
   "metadata": {},
   "outputs": [],
   "source": [
    "# Function to plot the scatter plot\n",
    "# Do not change below function, unless you know what you are doing.\n",
    "def plot_scatter(var,station,df=None):\n",
    "    df = get_station_data(station) if df is None else df\n",
    "    if f'{var}_mea' not in df.columns:\n",
    "        print(f'No measurement of {var} available')\n",
    "        return\n",
    "    \n",
    "    vmin,vmax = 0,max(df[f'{var}_mea'].max(),df[f'{var}_mod'].max())*1.02\n",
    "    fig = px.scatter(df, x=f'{var}_mea', y=f'{var}_mod', \\\n",
    "                marginal_x='histogram', marginal_y='histogram',\\\n",
    "                trendline=\"ols\",\\\n",
    "                width=800,height=800)\n",
    "    fig.update_traces(histnorm='probability', selector={'type':'histogram'})\n",
    "\n",
    "    fig.update_layout(title = f'{var} model simulation vs measurement at {station}')\n",
    "    fig.update_layout(yaxis=dict(range=[vmin,vmax]))\n",
    "    fig.update_layout(xaxis=dict(range=[vmin,vmax]))\n",
    "    fig.show()\n",
    "\n",
    "    results = px.get_trendline_results(fig)\n",
    "    print(results.px_fit_results.iloc[0].summary())"
   ]
  },
  {
   "cell_type": "code",
   "execution_count": null,
   "metadata": {},
   "outputs": [],
   "source": [
    "chemical,station = 'SO4','Villum'   # Choose from 'SO2', 'SO4', 'NH4', 'NO3', and 'PM2.5' for chemical, \n",
    "                                    # and 'Villum','Spitzbergen','Alert' for station\n",
    "plot_scatter(chemical,station)"
   ]
  },
  {
   "cell_type": "markdown",
   "metadata": {},
   "source": [
    "### Residuals (model simulations minus measured values)"
   ]
  },
  {
   "cell_type": "code",
   "execution_count": null,
   "metadata": {},
   "outputs": [],
   "source": [
    "# Function to plot the scatter plot\n",
    "# Do not change below function, unless you know what you are doing.\n",
    "def plot_residual(var,station,df=None):\n",
    "    df = get_station_data(station) if df is None else df\n",
    "    if f'{var}_mea' not in df.columns:\n",
    "        print(f'No measurement of {var} available')\n",
    "        return\n",
    "    \n",
    "    vmin,vmax = 0,max(df[f'{var}_mea'].max(),df[f'{var}_mod'].max())*1.02\n",
    "    df['residual'] = df[f'{var}_mod'] - df[f'{var}_mea']\n",
    "\n",
    "    fig = px.scatter(df, x=f'{var}_mea', y='residual',\n",
    "                marginal_y='violin', trendline='ols',\n",
    "                width=1000,height=800)\n",
    "\n",
    "    fig.update_layout(title = f'{var} model residuals (simulated - measured) at {station}')\n",
    "\n",
    "    fig.show()"
   ]
  },
  {
   "cell_type": "code",
   "execution_count": null,
   "metadata": {},
   "outputs": [],
   "source": [
    "chemical,station = 'SO4','Villum'   # Choose from 'SO2', 'SO4', 'NH4', 'NO3', and 'PM2.5' for chemical, \n",
    "                                    # and 'Villum','Spitzbergen','Alert' for station\n",
    "plot_residual(chemical,station)"
   ]
  },
  {
   "attachments": {},
   "cell_type": "markdown",
   "metadata": {},
   "source": [
    "#### Take a look at these metrics, do you know the meaning of each of them? (Google is always a good friend)"
   ]
  },
  {
   "attachments": {},
   "cell_type": "markdown",
   "metadata": {},
   "source": [
    "#### Based on these statistic values of evaluation metrics. How would you describe the model?"
   ]
  }
 ],
 "metadata": {
  "kernelspec": {
   "display_name": "nuuk",
   "language": "python",
   "name": "python3"
  },
  "language_info": {
   "codemirror_mode": {
    "name": "ipython",
    "version": 3
   },
   "file_extension": ".py",
   "mimetype": "text/x-python",
   "name": "python",
   "nbconvert_exporter": "python",
   "pygments_lexer": "ipython3",
   "version": "3.10.8"
  },
  "orig_nbformat": 4,
  "vscode": {
   "interpreter": {
    "hash": "f043f969a8a8cc2c7d8ee50072e096630eb2ca9066d9aa8495aaf1c90270c2be"
   }
  }
 },
 "nbformat": 4,
 "nbformat_minor": 2
}
